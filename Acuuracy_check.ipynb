{
 "cells": [
  {
   "cell_type": "code",
   "execution_count": 20,
   "source": [
    "import pandas as pd\r\n",
    "from sklearn.tree import DecisionTreeClassifier\r\n",
    "from sklearn.model_selection import train_test_split\r\n",
    "from sklearn.metrics import accuracy_score\r\n",
    "music_data=pd.read_csv(\"music.csv\")\r\n",
    "x=music_data.drop(columns=['genre'])\r\n",
    "y=music_data['genre']\r\n",
    "\r\n",
    "x_train,x_test,y_train,y_test=train_test_split(x,y,test_size=0.2 )\r\n",
    " #it picks data randomly everytime we run it may change score.\r\n",
    " #it will also chnge by changing the size of test, more the size of training set more is accuracy.\r\n",
    "model=DecisionTreeClassifier()\r\n",
    "model.fit(x_train, y_train)\r\n",
    "predictions=model.predict(x_test)\r\n",
    "\r\n",
    "score =accuracy_score(y_test, predictions)\r\n",
    "score"
   ],
   "outputs": [
    {
     "output_type": "execute_result",
     "data": {
      "text/plain": [
       "1.0"
      ]
     },
     "metadata": {},
     "execution_count": 20
    }
   ],
   "metadata": {}
  }
 ],
 "metadata": {
  "orig_nbformat": 4,
  "language_info": {
   "name": "python",
   "version": "3.9.7",
   "mimetype": "text/x-python",
   "codemirror_mode": {
    "name": "ipython",
    "version": 3
   },
   "pygments_lexer": "ipython3",
   "nbconvert_exporter": "python",
   "file_extension": ".py"
  },
  "kernelspec": {
   "name": "python3",
   "display_name": "Python 3.9.7 64-bit"
  },
  "interpreter": {
   "hash": "d469cf472c3cc9a1cec728c989b9aa3ab1d97935a70cb3fd9112f5a3853c8ef7"
  }
 },
 "nbformat": 4,
 "nbformat_minor": 2
}