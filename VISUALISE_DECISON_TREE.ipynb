{
 "cells": [
  {
   "cell_type": "code",
   "execution_count": null,
   "source": [
    "import pandas as pd\r\n",
    "from sklearn.tree import DecisionTreeClassifier\r\n",
    "from sklearn import tree\r\n",
    "music_data=pd.read_csv(\"music.csv\")\r\n",
    "x=music_data.drop(columns=['genre'])\r\n",
    "y=music_data['genre']\r\n",
    "model=DecisionTreeClassifier()\r\n",
    "model.fit(x,y)\r\n",
    "\r\n",
    "tree.export_graphviz(model, out_file='music_recommeneder.dot',\r\n",
    "                    features_name=['age', 'gender'],\r\n",
    "                    class_names=sorted(y.unique()),\r\n",
    "                    label='all',\r\n",
    "                    rounded=True\r\n",
    "                    filled=True)"
   ],
   "outputs": [],
   "metadata": {}
  }
 ],
 "metadata": {
  "orig_nbformat": 4,
  "language_info": {
   "name": "python",
   "version": "3.9.7"
  },
  "kernelspec": {
   "name": "python3",
   "display_name": "Python 3.9.7 64-bit"
  },
  "interpreter": {
   "hash": "d469cf472c3cc9a1cec728c989b9aa3ab1d97935a70cb3fd9112f5a3853c8ef7"
  }
 },
 "nbformat": 4,
 "nbformat_minor": 2
}