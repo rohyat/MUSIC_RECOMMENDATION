{
 "cells": [
  {
   "cell_type": "code",
   "execution_count": 1,
   "source": [
    "import pandas as pd\r\n",
    "from sklearn.tree import DecisionTreeClassifier\r\n",
    "import joblib \r\n",
    "# music_data=pd.read_csv(\"music.csv\")\r\n",
    "# x=music_data.drop(columns=['genre'])\r\n",
    "# y=music_data['genre']\r\n",
    "# model=DecisionTreeClassifier()\r\n",
    "# model.fit(x,y)\r\n",
    "# joblib.dump(model,'music_recomeneder.joblib')\r\n",
    "model=joblib.load('music_recomeneder.joblib')\r\n",
    "predictions=model.predict([[33,1],[33,0]])\r\n",
    "predictions\r\n"
   ],
   "outputs": [
    {
     "output_type": "stream",
     "name": "stderr",
     "text": [
      "C:\\Users\\rohhy\\AppData\\Local\\Programs\\Python\\Python39\\lib\\site-packages\\sklearn\\base.py:441: UserWarning: X does not have valid feature names, but DecisionTreeClassifier was fitted with feature names\n",
      "  warnings.warn(\n"
     ]
    },
    {
     "output_type": "execute_result",
     "data": {
      "text/plain": [
       "array(['Classical', 'Classical'], dtype=object)"
      ]
     },
     "metadata": {},
     "execution_count": 1
    }
   ],
   "metadata": {}
  }
 ],
 "metadata": {
  "orig_nbformat": 4,
  "language_info": {
   "name": "python",
   "version": "3.9.7",
   "mimetype": "text/x-python",
   "codemirror_mode": {
    "name": "ipython",
    "version": 3
   },
   "pygments_lexer": "ipython3",
   "nbconvert_exporter": "python",
   "file_extension": ".py"
  },
  "kernelspec": {
   "name": "python3",
   "display_name": "Python 3.9.7 64-bit"
  },
  "interpreter": {
   "hash": "d469cf472c3cc9a1cec728c989b9aa3ab1d97935a70cb3fd9112f5a3853c8ef7"
  }
 },
 "nbformat": 4,
 "nbformat_minor": 2
}